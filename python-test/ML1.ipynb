{
 "cells": [
  {
   "cell_type": "code",
   "execution_count": 1,
   "id": "1c2925e1-3d2e-4d6b-b1b0-64b1269b90c7",
   "metadata": {
    "execution": {
     "iopub.execute_input": "2023-04-14T05:10:02.740755Z",
     "iopub.status.busy": "2023-04-14T05:10:02.740755Z",
     "iopub.status.idle": "2023-04-14T05:10:07.331700Z",
     "shell.execute_reply": "2023-04-14T05:10:07.331700Z",
     "shell.execute_reply.started": "2023-04-14T05:10:02.740755Z"
    },
    "tags": []
   },
   "outputs": [],
   "source": [
    "import pandas as pd\n",
    "import numpy as np"
   ]
  },
  {
   "cell_type": "code",
   "execution_count": 2,
   "id": "7bdcfdeb-2b8b-4d2f-9d66-db9dfdccad31",
   "metadata": {
    "execution": {
     "iopub.execute_input": "2023-04-14T05:10:07.331700Z",
     "iopub.status.busy": "2023-04-14T05:10:07.331700Z",
     "iopub.status.idle": "2023-04-14T05:10:10.080316Z",
     "shell.execute_reply": "2023-04-14T05:10:10.080316Z",
     "shell.execute_reply.started": "2023-04-14T05:10:07.331700Z"
    },
    "tags": []
   },
   "outputs": [],
   "source": [
    "ess = pd.read_csv('ess.csv', low_memory=False)"
   ]
  },
  {
   "cell_type": "code",
   "execution_count": 3,
   "id": "c23047d3-f6c2-4622-aeb9-30d974bf1057",
   "metadata": {
    "execution": {
     "iopub.execute_input": "2023-04-14T05:10:10.080316Z",
     "iopub.status.busy": "2023-04-14T05:10:10.080316Z",
     "iopub.status.idle": "2023-04-14T05:10:11.989646Z",
     "shell.execute_reply": "2023-04-14T05:10:11.989646Z",
     "shell.execute_reply.started": "2023-04-14T05:10:10.080316Z"
    },
    "tags": []
   },
   "outputs": [],
   "source": [
    "#only full asnwer\n",
    "ess = ess.loc[ess['sclmeet'] <= 10,:].copy()\n",
    "ess = ess.loc[ess['rlgdgr'] <= 10,:].copy()\n",
    "ess = ess.loc[ess['hhmmb'] <= 50,:].copy()\n",
    "ess = ess.loc[ess['netusoft'] <= 5,:].copy()\n",
    "ess = ess.loc[ess['agea'] <= 200,:].copy()\n",
    "ess = ess.loc[ess['health'] <= 5,:].copy()\n",
    "ess = ess.loc[ess['happy'] <= 10,:].copy()\n",
    "ess = ess.loc[ess['eduyrs'] <= 100,:].copy().reset_index(drop=True)"
   ]
  },
  {
   "cell_type": "code",
   "execution_count": 4,
   "id": "c748c8d1-4443-4efd-b9a1-da9c4d4c7fa3",
   "metadata": {
    "execution": {
     "iopub.execute_input": "2023-04-14T05:10:11.989646Z",
     "iopub.status.busy": "2023-04-14T05:10:11.989646Z",
     "iopub.status.idle": "2023-04-14T05:10:12.023627Z",
     "shell.execute_reply": "2023-04-14T05:10:12.023627Z",
     "shell.execute_reply.started": "2023-04-14T05:10:11.989646Z"
    },
    "tags": []
   },
   "outputs": [],
   "source": [
    "social = list(ess.loc[:,'sclmeet'])\n",
    "happy = list(ess.loc[:,'happy'])\n",
    "low_social_happiness = [hap for soc,hap in zip(social,happy) if soc<=5]\n",
    "high_social_happiness = [hap for soc,hap in zip(social,happy) if soc>5]\n",
    "meanlower = np.mean(low_social_happiness)\n",
    "meanhigher = np.mean(high_social_happiness)"
   ]
  },
  {
   "cell_type": "code",
   "execution_count": null,
   "id": "4e410a51-c5df-4f6c-b05e-b916ba0d646a",
   "metadata": {},
   "outputs": [],
   "source": []
  }
 ],
 "metadata": {
  "kernelspec": {
   "display_name": "Python 3 (ipykernel)",
   "language": "python",
   "name": "python3"
  },
  "language_info": {
   "codemirror_mode": {
    "name": "ipython",
    "version": 3
   },
   "file_extension": ".py",
   "mimetype": "text/x-python",
   "name": "python",
   "nbconvert_exporter": "python",
   "pygments_lexer": "ipython3",
   "version": "3.11.3"
  }
 },
 "nbformat": 4,
 "nbformat_minor": 5
}

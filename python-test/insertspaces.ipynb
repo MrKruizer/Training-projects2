{
 "cells": [
  {
   "cell_type": "code",
   "execution_count": 8,
   "id": "6aa40828",
   "metadata": {
    "ExecuteTime": {
     "end_time": "2023-04-13T07:17:36.450482Z",
     "start_time": "2023-04-13T07:17:36.439105Z"
    },
    "execution": {
     "iopub.execute_input": "2023-04-13T09:47:51.893222Z",
     "iopub.status.busy": "2023-04-13T09:47:51.893222Z",
     "iopub.status.idle": "2023-04-13T09:47:51.900243Z",
     "shell.execute_reply": "2023-04-13T09:47:51.900243Z",
     "shell.execute_reply.started": "2023-04-13T09:47:51.893222Z"
    },
    "tags": []
   },
   "outputs": [],
   "source": [
    "import re\n",
    "from nltk.corpus import brown\n",
    "import numpy as np"
   ]
  },
  {
   "cell_type": "code",
   "execution_count": 2,
   "id": "28c310b5",
   "metadata": {
    "ExecuteTime": {
     "end_time": "2023-04-13T07:36:58.073966Z",
     "start_time": "2023-04-13T07:36:58.064079Z"
    },
    "execution": {
     "iopub.execute_input": "2023-04-13T09:27:39.639963Z",
     "iopub.status.busy": "2023-04-13T09:27:39.639963Z",
     "iopub.status.idle": "2023-04-13T09:27:39.652428Z",
     "shell.execute_reply": "2023-04-13T09:27:39.652428Z",
     "shell.execute_reply.started": "2023-04-13T09:27:39.639963Z"
    },
    "tags": []
   },
   "outputs": [],
   "source": [
    "text = \"The oneperfectly divine thing, the oneglimpse of God's paradisegiven on earth, is to fight a losingbattle - and notlose it.\"\n",
    "word_list = ['The', 'one', 'perfectly', 'divine']\n",
    "locs = list(set([(m.start(),m.end()) for word in word_list for m in re.finditer(word,text)]))\n",
    "spacestarts = [m.start() for m in re.finditer(' ', text)]\n",
    "spacestarts.append(-1)\n",
    "spacestarts.append(len(text))\n",
    "spacestarts.sort()\n",
    "spacestarts_affine = [ss + 1 for ss in spacestarts]\n",
    "spacestarts_affine.sort()\n",
    "between_spaces = [(spacestarts[k] + 1, spacestarts[k + 1]) for k in range(len(spacestarts)-1)]\n",
    "between_spaces_notvalid = [loc for loc in between_spaces if text[loc[0]:loc[1]] not in word_list]"
   ]
  },
  {
   "cell_type": "code",
   "execution_count": 3,
   "id": "4bf6cdfe-f29e-41b6-8622-bf2c437f6fff",
   "metadata": {
    "execution": {
     "iopub.execute_input": "2023-04-13T09:27:41.482891Z",
     "iopub.status.busy": "2023-04-13T09:27:41.482891Z",
     "iopub.status.idle": "2023-04-13T09:27:48.763365Z",
     "shell.execute_reply": "2023-04-13T09:27:48.763365Z",
     "shell.execute_reply.started": "2023-04-13T09:27:41.482891Z"
    },
    "tags": []
   },
   "outputs": [
    {
     "name": "stdout",
     "output_type": "stream",
     "text": [
      "56057\n"
     ]
    }
   ],
   "source": [
    "wordlist = set(brown.words())\n",
    "word_list = list(wordlist)"
   ]
  },
  {
   "cell_type": "code",
   "execution_count": 4,
   "id": "0a9c0956-7403-41a0-bf64-af5758761f3b",
   "metadata": {
    "execution": {
     "iopub.execute_input": "2023-04-13T09:28:09.551688Z",
     "iopub.status.busy": "2023-04-13T09:28:09.551688Z",
     "iopub.status.idle": "2023-04-13T09:28:09.858012Z",
     "shell.execute_reply": "2023-04-13T09:28:09.858012Z",
     "shell.execute_reply.started": "2023-04-13T09:28:09.551688Z"
    },
    "tags": []
   },
   "outputs": [],
   "source": [
    "word_list = [word.replace('*','') for word in word_list]\n",
    "word_list = [word.replace('[','') for word in word_list]\n",
    "word_list = [word.replace(']','') for word in word_list]\n",
    "word_list = [word.replace('?','') for word in word_list]\n",
    "word_list = [word.replace('.','') for word in word_list]\n",
    "word_list = [word.replace('+','') for word in word_list]\n",
    "word_list = [word.replace('/','') for word in word_list]\n",
    "word_list = [word.replace(';','') for word in word_list]\n",
    "word_list = [word.replace(':','') for word in word_list]\n",
    "word_list = [word.replace(',','') for word in word_list]\n",
    "word_list = [word.replace(')','') for word in word_list]\n",
    "word_list = [word.replace('(','') for word in word_list]\n",
    "word_list.remove('')"
   ]
  },
  {
   "cell_type": "code",
   "execution_count": 9,
   "id": "2e4c4fde-cadf-4ca2-8564-5bfdda885e7f",
   "metadata": {
    "execution": {
     "iopub.execute_input": "2023-04-13T09:48:03.977170Z",
     "iopub.status.busy": "2023-04-13T09:48:03.977170Z",
     "iopub.status.idle": "2023-04-13T09:48:04.033187Z",
     "shell.execute_reply": "2023-04-13T09:48:04.033187Z",
     "shell.execute_reply.started": "2023-04-13T09:48:03.977170Z"
    },
    "tags": []
   },
   "outputs": [],
   "source": [
    "between_spaces_notvalid = [loc for loc in between_spaces if text[loc[0]:loc[1]] not in word_list]\n",
    "partial_words = [loc for loc in locs if loc[0] in spacestarts_affine and loc[1] not in spacestarts]\n",
    "partial_words_end = [loc for loc in locs if loc[0] not in spacestarts_affine and loc[1]  in spacestarts]\n",
    "loc = between_spaces_notvalid[0]\n",
    "endsofbeginnings = [loc2[1] for loc2 in partial_words if loc2[0] == loc[0] and (loc2[1] - loc[0]) > 1]\n",
    "beginningsofends = [loc2[0] for loc2 in partial_words_end if loc2[1] == loc[1] and (loc2[1] - loc[0]) > 1]\n",
    "pivot = list(set(endsofbeginnings).intersection(beginningsofends))"
   ]
  },
  {
   "cell_type": "code",
   "execution_count": 11,
   "id": "c62f23d7-801e-4f2a-8995-03d1147e5ccc",
   "metadata": {
    "execution": {
     "iopub.execute_input": "2023-04-13T09:50:11.672030Z",
     "iopub.status.busy": "2023-04-13T09:50:11.672030Z",
     "iopub.status.idle": "2023-04-13T09:50:11.680556Z",
     "shell.execute_reply": "2023-04-13T09:50:11.680556Z",
     "shell.execute_reply.started": "2023-04-13T09:50:11.672030Z"
    },
    "tags": []
   },
   "outputs": [
    {
     "name": "stdout",
     "output_type": "stream",
     "text": [
      "The one perfectly divine thing, the oneglimpse of God's paradisegiven on earth, is to fight a losingbattle - and notlose it.\n"
     ]
    }
   ],
   "source": [
    "pivot = np.min(pivot)\n",
    "textnew = text\n",
    "textnew = textnew.replace(text[loc[0]:loc[1]], text[loc[0]:pivot]+' '+text[pivot:loc[1]])\n",
    "print(textnew)"
   ]
  },
  {
   "cell_type": "markdown",
   "id": "897c1f7d-7331-4b7f-b671-02b751c27f6b",
   "metadata": {},
   "source": [
    "Result - function insert spaces in english text:"
   ]
  },
  {
   "cell_type": "code",
   "execution_count": 12,
   "id": "8abd2abc-4315-40e2-89f1-f8dca11839d5",
   "metadata": {
    "execution": {
     "iopub.execute_input": "2023-04-13T09:55:31.306114Z",
     "iopub.status.busy": "2023-04-13T09:55:31.306114Z",
     "iopub.status.idle": "2023-04-13T09:55:31.324803Z",
     "shell.execute_reply": "2023-04-13T09:55:31.324803Z",
     "shell.execute_reply.started": "2023-04-13T09:55:31.306114Z"
    },
    "tags": []
   },
   "outputs": [],
   "source": [
    "def insertspaces(text,word_list):\n",
    "    locs = list(set([(m.start(),m.end()) for word in word_list for m in re.finditer(word,text)]))\n",
    "    spacestarts = [m.start() for m in re.finditer(' ', text)]\n",
    "    spacestarts.append(-1)\n",
    "    spacestarts.append(len(text))\n",
    "    spacestarts.sort()\n",
    "    spacestarts_affine = [ss + 1 for ss in spacestarts]\n",
    "    spacestarts_affine.sort()\n",
    "    partial_words = [loc for loc in locs if loc[0] in spacestarts_affine and loc[1] not in spacestarts]\n",
    "    partial_words_end = [loc for loc in locs if loc[0] not in spacestarts_affine and loc[1]  in spacestarts]\n",
    "    between_spaces = [(spacestarts[k] + 1, spacestarts[k + 1]) for k in range(len(spacestarts)-1)]\n",
    "    between_spaces_notvalid = [loc for loc in between_spaces if text[loc[0]:loc[1]] not in word_list]\n",
    "    textnew = text\n",
    "    for loc in between_spaces_notvalid:\n",
    "        endsofbeginnings = [loc2[1] for loc2 in partial_words if loc2[0] == loc[0] and (loc2[1] - loc[0]) > 1]\n",
    "        beginningsofends = [loc2[0] for loc2 in partial_words_end if loc2[1] == loc[1] and (loc2[1] - loc[0]) > 1]\n",
    "        pivot = list(set(endsofbeginnings).intersection(beginningsofends))\n",
    "        if (len(pivot) > 0):\n",
    "            pivot = np.min(pivot)\n",
    "            textnew = textnew.replace(text[loc[0]:loc[1]], text[loc[0]:pivot]+' '+text[pivot:loc[1]])\n",
    "    textnew = textnew.replace('  ', ' ')\n",
    "    return textnew"
   ]
  },
  {
   "cell_type": "code",
   "execution_count": 13,
   "id": "2c929822-b349-436a-b9b2-2d21127aceac",
   "metadata": {
    "execution": {
     "iopub.execute_input": "2023-04-13T09:55:58.474678Z",
     "iopub.status.busy": "2023-04-13T09:55:58.474678Z",
     "iopub.status.idle": "2023-04-13T09:56:05.780814Z",
     "shell.execute_reply": "2023-04-13T09:56:05.780814Z",
     "shell.execute_reply.started": "2023-04-13T09:55:58.474678Z"
    },
    "tags": []
   },
   "outputs": [
    {
     "name": "stdout",
     "output_type": "stream",
     "text": [
      "The one perfectly divine thing, the one glimpse of God's paradise given on earth, is to fight a losing battle - and not lose it.\n"
     ]
    }
   ],
   "source": [
    "print(insertspaces(text,word_list))"
   ]
  }
 ],
 "metadata": {
  "celltoolbar": "Raw Cell Format",
  "kernelspec": {
   "display_name": "Python 3 (ipykernel)",
   "language": "python",
   "name": "python3"
  },
  "language_info": {
   "codemirror_mode": {
    "name": "ipython",
    "version": 3
   },
   "file_extension": ".py",
   "mimetype": "text/x-python",
   "name": "python",
   "nbconvert_exporter": "python",
   "pygments_lexer": "ipython3",
   "version": "3.11.3"
  },
  "toc-autonumbering": true,
  "toc-showcode": true
 },
 "nbformat": 4,
 "nbformat_minor": 5
}

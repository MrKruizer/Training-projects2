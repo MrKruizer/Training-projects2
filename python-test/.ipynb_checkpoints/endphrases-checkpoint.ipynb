{
 "cells": [
  {
   "cell_type": "code",
   "execution_count": 58,
   "id": "0dfd3b1a-1ac6-4574-aca7-3dbf95d642f0",
   "metadata": {
    "execution": {
     "iopub.execute_input": "2023-04-13T11:20:35.290946Z",
     "iopub.status.busy": "2023-04-13T11:20:35.275325Z",
     "iopub.status.idle": "2023-04-13T11:20:35.297085Z",
     "shell.execute_reply": "2023-04-13T11:20:35.297085Z",
     "shell.execute_reply.started": "2023-04-13T11:20:35.290946Z"
    },
    "tags": []
   },
   "outputs": [],
   "source": [
    "import re, nltk, requests\n",
    "import numpy as np\n",
    "from nltk.util import ngrams\n",
    "from nltk.tokenize import sent_tokenize, word_tokenize\n",
    "from collections import Counter"
   ]
  },
  {
   "cell_type": "code",
   "execution_count": 60,
   "id": "9f00b4b2-66d9-4908-8b8d-31ab73ab905e",
   "metadata": {
    "execution": {
     "iopub.execute_input": "2023-04-13T11:21:36.625550Z",
     "iopub.status.busy": "2023-04-13T11:21:36.625550Z",
     "iopub.status.idle": "2023-04-13T11:21:46.340289Z",
     "shell.execute_reply": "2023-04-13T11:21:46.340289Z",
     "shell.execute_reply.started": "2023-04-13T11:21:36.625550Z"
    },
    "tags": []
   },
   "outputs": [],
   "source": [
    "file = requests.get('http://www.bradfordtuckfield.com/marktwain.txt')\n",
    "file = file.text\n",
    "text = file.replace('\\n', '')"
   ]
  },
  {
   "cell_type": "code",
   "execution_count": 54,
   "id": "4a33e3c8-eedd-4c57-bf1f-1c0787cafa2e",
   "metadata": {
    "execution": {
     "iopub.execute_input": "2023-04-13T11:11:56.104922Z",
     "iopub.status.busy": "2023-04-13T11:11:56.104922Z",
     "iopub.status.idle": "2023-04-13T11:12:15.665325Z",
     "shell.execute_reply": "2023-04-13T11:12:15.665325Z",
     "shell.execute_reply.started": "2023-04-13T11:11:56.104922Z"
    },
    "tags": []
   },
   "outputs": [],
   "source": [
    "token = nltk.word_tokenize(text)\n",
    "bigrams = ngrams(token, 2)\n",
    "trigrams = ngrams(token, 3)\n",
    "fourgrams = ngrams(token, 4)\n",
    "fivegrams = ngrams(token, 5)\n",
    "grams = [ngrams(token, 2),ngrams(token, 3),ngrams(token, 4),ngrams(token, 5)]"
   ]
  },
  {
   "cell_type": "code",
   "execution_count": 53,
   "id": "34de7278-bbb0-498d-b874-54b1dff08beb",
   "metadata": {
    "execution": {
     "iopub.execute_input": "2023-04-13T11:11:52.091336Z",
     "iopub.status.busy": "2023-04-13T11:11:52.091336Z",
     "iopub.status.idle": "2023-04-13T11:11:52.195683Z",
     "shell.execute_reply": "2023-04-13T11:11:52.195683Z",
     "shell.execute_reply.started": "2023-04-13T11:11:52.091336Z"
    },
    "tags": []
   },
   "outputs": [],
   "source": [
    "search_term = 'life is a'\n",
    "split_term = tuple(search_term.split(' '))\n",
    "search_term_len = len(search_term.split(' '))\n",
    "counter_grams = Counter(grams[search_term_len-1])\n",
    "matching_terms = [elem for elem in list(counter_grams.items()) if elem[0][:-1] == tuple(split_term)]\n",
    "if (len(matching_terms) > 0) :\n",
    "    frequencies = [item[1] for item in matching_terms]\n",
    "    max_frequencies = np.max(frequencies)\n",
    "    high_frequencies_term = [item[0] for item in matching_terms if item[1] == max_frequencies][0]\n",
    "    combine_term = ' '.join(high_frequencies_term)"
   ]
  },
  {
   "cell_type": "markdown",
   "id": "58a557a0-eae7-4b42-93da-3408f6978bc7",
   "metadata": {},
   "source": [
    "Result - function"
   ]
  },
  {
   "cell_type": "code",
   "execution_count": 56,
   "id": "56d3058f-efbe-4c87-a9d7-de0fff0e7884",
   "metadata": {
    "execution": {
     "iopub.execute_input": "2023-04-13T11:19:17.357824Z",
     "iopub.status.busy": "2023-04-13T11:19:17.357824Z",
     "iopub.status.idle": "2023-04-13T11:19:17.372939Z",
     "shell.execute_reply": "2023-04-13T11:19:17.372939Z",
     "shell.execute_reply.started": "2023-04-13T11:19:17.357824Z"
    },
    "tags": []
   },
   "outputs": [],
   "source": [
    "def search_suggestion(search_term, text):\n",
    "    token = nltk.word_tokenize(text)\n",
    "    bigrams = ngrams(token, 2)\n",
    "    trigrams = ngrams(token, 3)\n",
    "    fourgrams = ngrams(token, 4)\n",
    "    fivegrams = ngrams(token, 5)\n",
    "    grams = [ngrams(token, 2),ngrams(token, 3),ngrams(token, 4),ngrams(token, 5)]\n",
    "    split_term = tuple(search_term.split(' '))\n",
    "    combine_term = 'No suggested searches'\n",
    "    search_term_len = len(search_term.split(' '))\n",
    "    counter_grams = Counter(grams[search_term_len-1])\n",
    "    matching_terms = [elem for elem in list(counter_grams.items()) if elem[0][:-1] == tuple(split_term)]\n",
    "    if (len(matching_terms) > 0) :\n",
    "        frequencies = [item[1] for item in matching_terms]\n",
    "        max_frequencies = np.max(frequencies)\n",
    "        high_frequencies_term = [item[0] for item in matching_terms if item[1] == max_frequencies][0]\n",
    "        combine_term = ' '.join(high_frequencies_term)\n",
    "    return combine_term"
   ]
  },
  {
   "cell_type": "code",
   "execution_count": 61,
   "id": "aa435ee8-f326-47af-b6ba-e225b9a1dbb4",
   "metadata": {
    "execution": {
     "iopub.execute_input": "2023-04-13T11:21:49.210704Z",
     "iopub.status.busy": "2023-04-13T11:21:49.210704Z",
     "iopub.status.idle": "2023-04-13T11:22:23.818171Z",
     "shell.execute_reply": "2023-04-13T11:22:23.817185Z",
     "shell.execute_reply.started": "2023-04-13T11:21:49.210704Z"
    },
    "tags": []
   },
   "outputs": [
    {
     "name": "stdout",
     "output_type": "stream",
     "text": [
      "life is a failure\n"
     ]
    }
   ],
   "source": [
    "file = requests.get('http://www.bradfordtuckfield.com/marktwain.txt')\n",
    "file = file.text\n",
    "text = file.replace('\\n', '')\n",
    "print(search_suggestion(search_term, text))"
   ]
  },
  {
   "cell_type": "code",
   "execution_count": 62,
   "id": "cd82bde7-b1fc-434e-8468-bb9ded72646b",
   "metadata": {
    "execution": {
     "iopub.execute_input": "2023-04-13T11:23:09.082818Z",
     "iopub.status.busy": "2023-04-13T11:23:09.082818Z",
     "iopub.status.idle": "2023-04-13T11:23:13.012191Z",
     "shell.execute_reply": "2023-04-13T11:23:13.012191Z",
     "shell.execute_reply.started": "2023-04-13T11:23:09.082818Z"
    },
    "tags": []
   },
   "outputs": [],
   "source": [
    "file = requests.get('http://www.bradfordtuckfield.com/shakespeare.txt')\n",
    "file = file.text\n",
    "text = file.replace('\\n', '')\n",
    "print(search_suggestion(search_term, text))"
   ]
  },
  {
   "cell_type": "code",
   "execution_count": 70,
   "id": "24dbae40-0104-408b-bd31-adf3d100da15",
   "metadata": {
    "execution": {
     "iopub.execute_input": "2023-04-13T11:26:39.676403Z",
     "iopub.status.busy": "2023-04-13T11:26:39.676403Z",
     "iopub.status.idle": "2023-04-13T11:27:00.322144Z",
     "shell.execute_reply": "2023-04-13T11:27:00.322144Z",
     "shell.execute_reply.started": "2023-04-13T11:26:39.676403Z"
    },
    "tags": []
   },
   "outputs": [
    {
     "name": "stdout",
     "output_type": "stream",
     "text": [
      "a way that seemed\n"
     ]
    }
   ],
   "source": [
    "file = requests.get('http://norvig.com/big.txt')\n",
    "file = file.text\n",
    "text = file.replace('\\n', '')\n",
    "print(search_suggestion(\"a way that\", text))"
   ]
  }
 ],
 "metadata": {
  "kernelspec": {
   "display_name": "Python 3 (ipykernel)",
   "language": "python",
   "name": "python3"
  },
  "language_info": {
   "codemirror_mode": {
    "name": "ipython",
    "version": 3
   },
   "file_extension": ".py",
   "mimetype": "text/x-python",
   "name": "python",
   "nbconvert_exporter": "python",
   "pygments_lexer": "ipython3",
   "version": "3.11.3"
  }
 },
 "nbformat": 4,
 "nbformat_minor": 5
}
